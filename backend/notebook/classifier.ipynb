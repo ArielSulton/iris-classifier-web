{
 "cells": [
  {
   "cell_type": "code",
   "execution_count": null,
   "id": "a63e210e",
   "metadata": {},
   "outputs": [
    {
     "name": "stdout",
     "output_type": "stream",
     "text": [
      "\u001b[33mWARNING: There was an error checking the latest version of pip.\u001b[0m\u001b[33m\n",
      "\u001b[0m"
     ]
    }
   ],
   "source": [
    "# python 3.9.22\n",
    "!pip install -q numpy pandas seaborn matplotlib scikit-learn pycaret optuna"
   ]
  },
  {
   "cell_type": "code",
   "execution_count": 15,
   "id": "8fe091a4",
   "metadata": {},
   "outputs": [],
   "source": [
    "import numpy as np\n",
    "import pandas as pd\n",
    "import seaborn as sns\n",
    "import matplotlib.pyplot as plt\n",
    "\n",
    "from sklearn.preprocessing import LabelEncoder\n",
    "from sklearn.model_selection import cross_val_score, train_test_split, StratifiedKFold\n",
    "from sklearn.ensemble import ExtraTreesClassifier, RandomForestClassifier\n",
    "from sklearn.tree import DecisionTreeClassifier\n",
    "from sklearn.metrics import accuracy_score\n",
    "\n",
    "from pycaret.classification import *\n",
    "import optuna\n",
    "import pickle"
   ]
  },
  {
   "cell_type": "markdown",
   "id": "a8c47bc3",
   "metadata": {},
   "source": [
    "# Dataset"
   ]
  },
  {
   "cell_type": "code",
   "execution_count": 16,
   "id": "764a9fe0",
   "metadata": {},
   "outputs": [
    {
     "data": {
      "application/vnd.microsoft.datawrangler.viewer.v0+json": {
       "columns": [
        {
         "name": "index",
         "rawType": "int64",
         "type": "integer"
        },
        {
         "name": "sepal-length",
         "rawType": "float64",
         "type": "float"
        },
        {
         "name": "sepal-width",
         "rawType": "float64",
         "type": "float"
        },
        {
         "name": "petal-length",
         "rawType": "float64",
         "type": "float"
        },
        {
         "name": "petal-width",
         "rawType": "float64",
         "type": "float"
        },
        {
         "name": "class",
         "rawType": "object",
         "type": "string"
        }
       ],
       "conversionMethod": "pd.DataFrame",
       "ref": "7cc131e4-0abd-4864-9f1d-bbdad6a3ee17",
       "rows": [
        [
         "0",
         "5.1",
         "3.5",
         "1.4",
         "0.2",
         "Iris-setosa"
        ],
        [
         "1",
         "4.9",
         "3.0",
         "1.4",
         "0.2",
         "Iris-setosa"
        ],
        [
         "2",
         "4.7",
         "3.2",
         "1.3",
         "0.2",
         "Iris-setosa"
        ],
        [
         "3",
         "4.6",
         "3.1",
         "1.5",
         "0.2",
         "Iris-setosa"
        ],
        [
         "4",
         "5.0",
         "3.6",
         "1.4",
         "0.2",
         "Iris-setosa"
        ]
       ],
       "shape": {
        "columns": 5,
        "rows": 5
       }
      },
      "text/html": [
       "<div>\n",
       "<style scoped>\n",
       "    .dataframe tbody tr th:only-of-type {\n",
       "        vertical-align: middle;\n",
       "    }\n",
       "\n",
       "    .dataframe tbody tr th {\n",
       "        vertical-align: top;\n",
       "    }\n",
       "\n",
       "    .dataframe thead th {\n",
       "        text-align: right;\n",
       "    }\n",
       "</style>\n",
       "<table border=\"1\" class=\"dataframe\">\n",
       "  <thead>\n",
       "    <tr style=\"text-align: right;\">\n",
       "      <th></th>\n",
       "      <th>sepal-length</th>\n",
       "      <th>sepal-width</th>\n",
       "      <th>petal-length</th>\n",
       "      <th>petal-width</th>\n",
       "      <th>class</th>\n",
       "    </tr>\n",
       "  </thead>\n",
       "  <tbody>\n",
       "    <tr>\n",
       "      <th>0</th>\n",
       "      <td>5.1</td>\n",
       "      <td>3.5</td>\n",
       "      <td>1.4</td>\n",
       "      <td>0.2</td>\n",
       "      <td>Iris-setosa</td>\n",
       "    </tr>\n",
       "    <tr>\n",
       "      <th>1</th>\n",
       "      <td>4.9</td>\n",
       "      <td>3.0</td>\n",
       "      <td>1.4</td>\n",
       "      <td>0.2</td>\n",
       "      <td>Iris-setosa</td>\n",
       "    </tr>\n",
       "    <tr>\n",
       "      <th>2</th>\n",
       "      <td>4.7</td>\n",
       "      <td>3.2</td>\n",
       "      <td>1.3</td>\n",
       "      <td>0.2</td>\n",
       "      <td>Iris-setosa</td>\n",
       "    </tr>\n",
       "    <tr>\n",
       "      <th>3</th>\n",
       "      <td>4.6</td>\n",
       "      <td>3.1</td>\n",
       "      <td>1.5</td>\n",
       "      <td>0.2</td>\n",
       "      <td>Iris-setosa</td>\n",
       "    </tr>\n",
       "    <tr>\n",
       "      <th>4</th>\n",
       "      <td>5.0</td>\n",
       "      <td>3.6</td>\n",
       "      <td>1.4</td>\n",
       "      <td>0.2</td>\n",
       "      <td>Iris-setosa</td>\n",
       "    </tr>\n",
       "  </tbody>\n",
       "</table>\n",
       "</div>"
      ],
      "text/plain": [
       "   sepal-length  sepal-width  petal-length  petal-width        class\n",
       "0           5.1          3.5           1.4          0.2  Iris-setosa\n",
       "1           4.9          3.0           1.4          0.2  Iris-setosa\n",
       "2           4.7          3.2           1.3          0.2  Iris-setosa\n",
       "3           4.6          3.1           1.5          0.2  Iris-setosa\n",
       "4           5.0          3.6           1.4          0.2  Iris-setosa"
      ]
     },
     "execution_count": 16,
     "metadata": {},
     "output_type": "execute_result"
    }
   ],
   "source": [
    "df = pd.read_csv(\"dataset/iris.csv\")\n",
    "df.head()"
   ]
  },
  {
   "cell_type": "markdown",
   "id": "d8969daa",
   "metadata": {},
   "source": [
    "# EDA & Preprocessing"
   ]
  },
  {
   "cell_type": "markdown",
   "id": "3b4563e1",
   "metadata": {},
   "source": [
    "## Dataset Shape"
   ]
  },
  {
   "cell_type": "code",
   "execution_count": 17,
   "id": "e28528df",
   "metadata": {},
   "outputs": [
    {
     "name": "stdout",
     "output_type": "stream",
     "text": [
      "Dataset shape: (150, 5)\n"
     ]
    }
   ],
   "source": [
    "print(\"Dataset shape:\", df.shape)"
   ]
  },
  {
   "cell_type": "markdown",
   "id": "7bbcc3d3",
   "metadata": {},
   "source": [
    "## Dataset Information"
   ]
  },
  {
   "cell_type": "code",
   "execution_count": 18,
   "id": "e69ff1d2",
   "metadata": {},
   "outputs": [
    {
     "name": "stdout",
     "output_type": "stream",
     "text": [
      "<class 'pandas.core.frame.DataFrame'>\n",
      "RangeIndex: 150 entries, 0 to 149\n",
      "Data columns (total 5 columns):\n",
      " #   Column        Non-Null Count  Dtype  \n",
      "---  ------        --------------  -----  \n",
      " 0   sepal-length  150 non-null    float64\n",
      " 1   sepal-width   150 non-null    float64\n",
      " 2   petal-length  150 non-null    float64\n",
      " 3   petal-width   150 non-null    float64\n",
      " 4   class         150 non-null    object \n",
      "dtypes: float64(4), object(1)\n",
      "memory usage: 6.0+ KB\n",
      "None\n"
     ]
    }
   ],
   "source": [
    "print(df.info())"
   ]
  },
  {
   "cell_type": "markdown",
   "id": "ca4a18df",
   "metadata": {},
   "source": [
    "## Descriptive Statistics"
   ]
  },
  {
   "cell_type": "code",
   "execution_count": 19,
   "id": "4462b0ce",
   "metadata": {},
   "outputs": [],
   "source": [
    "cat_cols = df.select_dtypes(include='object').columns.tolist()\n",
    "num_cols = df.select_dtypes(include='number').columns.tolist()"
   ]
  },
  {
   "cell_type": "code",
   "execution_count": 20,
   "id": "63cfab2c",
   "metadata": {},
   "outputs": [
    {
     "name": "stdout",
     "output_type": "stream",
     "text": [
      "              count      mean       std  min  25%   50%  75%  max\n",
      "sepal-length  150.0  5.843333  0.828066  4.3  5.1  5.80  6.4  7.9\n",
      "sepal-width   150.0  3.054000  0.433594  2.0  2.8  3.00  3.3  4.4\n",
      "petal-length  150.0  3.758667  1.764420  1.0  1.6  4.35  5.1  6.9\n",
      "petal-width   150.0  1.198667  0.763161  0.1  0.3  1.30  1.8  2.5\n"
     ]
    }
   ],
   "source": [
    "print(df[num_cols].describe().T)"
   ]
  },
  {
   "cell_type": "markdown",
   "id": "02fae59f",
   "metadata": {},
   "source": [
    "## Missing Value"
   ]
  },
  {
   "cell_type": "code",
   "execution_count": 21,
   "id": "20d66984",
   "metadata": {},
   "outputs": [
    {
     "name": "stdout",
     "output_type": "stream",
     "text": [
      "sepal-length    0\n",
      "sepal-width     0\n",
      "petal-length    0\n",
      "petal-width     0\n",
      "class           0\n",
      "dtype: int64\n"
     ]
    }
   ],
   "source": [
    "print(df.isnull().sum())"
   ]
  },
  {
   "cell_type": "markdown",
   "id": "5d9a9e30",
   "metadata": {},
   "source": [
    "## Feature Distribution"
   ]
  },
  {
   "cell_type": "code",
   "execution_count": 22,
   "id": "27f08b3f",
   "metadata": {},
   "outputs": [
    {
     "data": {
      "image/png": "[encoded data removed]",
      "text/plain": [
       "<Figure size 1200x800 with 4 Axes>"
      ]
     },
     "metadata": {},
     "output_type": "display_data"
    }
   ],
   "source": [
    "n_cols = len(num_cols)\n",
    "\n",
    "n_rows = (n_cols + 1) // 2\n",
    "fig, axes = plt.subplots(n_rows, 2, figsize=(12, 4 * n_rows))\n",
    "axes = axes.flatten()\n",
    "\n",
    "for i, col in enumerate(num_cols):\n",
    "    ax = axes[i]\n",
    "    sns.kdeplot(df[col], ax=ax, fill=True)\n",
    "    ax.set_title(f\"Distribusi Numerik: {col}\")\n",
    "\n",
    "for j in range(i + 1, len(axes)):\n",
    "    fig.delaxes(axes[j])\n",
    "\n",
    "plt.tight_layout()\n",
    "plt.show()"
   ]
  },
  {
   "cell_type": "markdown",
   "id": "230022ad",
   "metadata": {},
   "source": [
    "## Correlation Matrix"
   ]
  },
  {
   "cell_type": "code",
   "execution_count": 23,
   "id": "6c990b8b",
   "metadata": {},
   "outputs": [
    {
     "data": {
      "text/plain": [
       "<Axes: >"
      ]
     },
     "execution_count": 23,
     "metadata": {},
     "output_type": "execute_result"
    },
    {
     "data": {
      "image/png": "[encoded data removed]",
      "text/plain": [
       "<Figure size 800x550 with 2 Axes>"
      ]
     },
     "metadata": {},
     "output_type": "display_data"
    }
   ],
   "source": [
    "sns.heatmap(df.corr(numeric_only=True), annot=True, cmap=\"coolwarm\")"
   ]
  },
  {
   "cell_type": "markdown",
   "id": "91c0ecff",
   "metadata": {},
   "source": [
    "## Label Encoding"
   ]
  },
  {
   "cell_type": "code",
   "execution_count": 24,
   "id": "0b448ebe",
   "metadata": {},
   "outputs": [],
   "source": [
    "le = LabelEncoder()\n",
    "df['class'] = le.fit_transform(df['class'])"
   ]
  },
  {
   "cell_type": "markdown",
   "id": "4daeae06",
   "metadata": {},
   "source": [
    "# Classification Model"
   ]
  },
  {
   "cell_type": "markdown",
   "id": "27ba21a4",
   "metadata": {},
   "source": [
    "## PyCaret Base Modelling"
   ]
  },
  {
   "cell_type": "code",
   "execution_count": 25,
   "id": "2628edcb",
   "metadata": {},
   "outputs": [
    {
     "data": {
      "text/html": [
       "<style type=\"text/css\">\n",
       "#T_bad9b_row8_col1 {\n",
       "  background-color: lightgreen;\n",
       "}\n",
       "</style>\n",
       "<table id=\"T_bad9b\">\n",
       "  <thead>\n",
       "    <tr>\n",
       "      <th class=\"blank level0\" >&nbsp;</th>\n",
       "      <th id=\"T_bad9b_level0_col0\" class=\"col_heading level0 col0\" >Description</th>\n",
       "      <th id=\"T_bad9b_level0_col1\" class=\"col_heading level0 col1\" >Value</th>\n",
       "    </tr>\n",
       "  </thead>\n",
       "  <tbody>\n",
       "    <tr>\n",
       "      <th id=\"T_bad9b_level0_row0\" class=\"row_heading level0 row0\" >0</th>\n",
       "      <td id=\"T_bad9b_row0_col0\" class=\"data row0 col0\" >Session id</td>\n",
       "      <td id=\"T_bad9b_row0_col1\" class=\"data row0 col1\" >42</td>\n",
       "    </tr>\n",
       "    <tr>\n",
       "      <th id=\"T_bad9b_level0_row1\" class=\"row_heading level0 row1\" >1</th>\n",
       "      <td id=\"T_bad9b_row1_col0\" class=\"data row1 col0\" >Target</td>\n",
       "      <td id=\"T_bad9b_row1_col1\" class=\"data row1 col1\" >class</td>\n",
       "    </tr>\n",
       "    <tr>\n",
       "      <th id=\"T_bad9b_level0_row2\" class=\"row_heading level0 row2\" >2</th>\n",
       "      <td id=\"T_bad9b_row2_col0\" class=\"data row2 col0\" >Target type</td>\n",
       "      <td id=\"T_bad9b_row2_col1\" class=\"data row2 col1\" >Multiclass</td>\n",
       "    </tr>\n",
       "    <tr>\n",
       "      <th id=\"T_bad9b_level0_row3\" class=\"row_heading level0 row3\" >3</th>\n",
       "      <td id=\"T_bad9b_row3_col0\" class=\"data row3 col0\" >Original data shape</td>\n",
       "      <td id=\"T_bad9b_row3_col1\" class=\"data row3 col1\" >(150, 5)</td>\n",
       "    </tr>\n",
       "    <tr>\n",
       "      <th id=\"T_bad9b_level0_row4\" class=\"row_heading level0 row4\" >4</th>\n",
       "      <td id=\"T_bad9b_row4_col0\" class=\"data row4 col0\" >Transformed data shape</td>\n",
       "      <td id=\"T_bad9b_row4_col1\" class=\"data row4 col1\" >(150, 5)</td>\n",
       "    </tr>\n",
       "    <tr>\n",
       "      <th id=\"T_bad9b_level0_row5\" class=\"row_heading level0 row5\" >5</th>\n",
       "      <td id=\"T_bad9b_row5_col0\" class=\"data row5 col0\" >Transformed train set shape</td>\n",
       "      <td id=\"T_bad9b_row5_col1\" class=\"data row5 col1\" >(105, 5)</td>\n",
       "    </tr>\n",
       "    <tr>\n",
       "      <th id=\"T_bad9b_level0_row6\" class=\"row_heading level0 row6\" >6</th>\n",
       "      <td id=\"T_bad9b_row6_col0\" class=\"data row6 col0\" >Transformed test set shape</td>\n",
       "      <td id=\"T_bad9b_row6_col1\" class=\"data row6 col1\" >(45, 5)</td>\n",
       "    </tr>\n",
       "    <tr>\n",
       "      <th id=\"T_bad9b_level0_row7\" class=\"row_heading level0 row7\" >7</th>\n",
       "      <td id=\"T_bad9b_row7_col0\" class=\"data row7 col0\" >Numeric features</td>\n",
       "      <td id=\"T_bad9b_row7_col1\" class=\"data row7 col1\" >4</td>\n",
       "    </tr>\n",
       "    <tr>\n",
       "      <th id=\"T_bad9b_level0_row8\" class=\"row_heading level0 row8\" >8</th>\n",
       "      <td id=\"T_bad9b_row8_col0\" class=\"data row8 col0\" >Preprocess</td>\n",
       "      <td id=\"T_bad9b_row8_col1\" class=\"data row8 col1\" >True</td>\n",
       "    </tr>\n",
       "    <tr>\n",
       "      <th id=\"T_bad9b_level0_row9\" class=\"row_heading level0 row9\" >9</th>\n",
       "      <td id=\"T_bad9b_row9_col0\" class=\"data row9 col0\" >Imputation type</td>\n",
       "      <td id=\"T_bad9b_row9_col1\" class=\"data row9 col1\" >simple</td>\n",
       "    </tr>\n",
       "    <tr>\n",
       "      <th id=\"T_bad9b_level0_row10\" class=\"row_heading level0 row10\" >10</th>\n",
       "      <td id=\"T_bad9b_row10_col0\" class=\"data row10 col0\" >Numeric imputation</td>\n",
       "      <td id=\"T_bad9b_row10_col1\" class=\"data row10 col1\" >mean</td>\n",
       "    </tr>\n",
       "    <tr>\n",
       "      <th id=\"T_bad9b_level0_row11\" class=\"row_heading level0 row11\" >11</th>\n",
       "      <td id=\"T_bad9b_row11_col0\" class=\"data row11 col0\" >Categorical imputation</td>\n",
       "      <td id=\"T_bad9b_row11_col1\" class=\"data row11 col1\" >mode</td>\n",
       "    </tr>\n",
       "    <tr>\n",
       "      <th id=\"T_bad9b_level0_row12\" class=\"row_heading level0 row12\" >12</th>\n",
       "      <td id=\"T_bad9b_row12_col0\" class=\"data row12 col0\" >Fold Generator</td>\n",
       "      <td id=\"T_bad9b_row12_col1\" class=\"data row12 col1\" >StratifiedKFold</td>\n",
       "    </tr>\n",
       "    <tr>\n",
       "      <th id=\"T_bad9b_level0_row13\" class=\"row_heading level0 row13\" >13</th>\n",
       "      <td id=\"T_bad9b_row13_col0\" class=\"data row13 col0\" >Fold Number</td>\n",
       "      <td id=\"T_bad9b_row13_col1\" class=\"data row13 col1\" >10</td>\n",
       "    </tr>\n",
       "    <tr>\n",
       "      <th id=\"T_bad9b_level0_row14\" class=\"row_heading level0 row14\" >14</th>\n",
       "      <td id=\"T_bad9b_row14_col0\" class=\"data row14 col0\" >CPU Jobs</td>\n",
       "      <td id=\"T_bad9b_row14_col1\" class=\"data row14 col1\" >-1</td>\n",
       "    </tr>\n",
       "    <tr>\n",
       "      <th id=\"T_bad9b_level0_row15\" class=\"row_heading level0 row15\" >15</th>\n",
       "      <td id=\"T_bad9b_row15_col0\" class=\"data row15 col0\" >Use GPU</td>\n",
       "      <td id=\"T_bad9b_row15_col1\" class=\"data row15 col1\" >False</td>\n",
       "    </tr>\n",
       "    <tr>\n",
       "      <th id=\"T_bad9b_level0_row16\" class=\"row_heading level0 row16\" >16</th>\n",
       "      <td id=\"T_bad9b_row16_col0\" class=\"data row16 col0\" >Log Experiment</td>\n",
       "      <td id=\"T_bad9b_row16_col1\" class=\"data row16 col1\" >False</td>\n",
       "    </tr>\n",
       "    <tr>\n",
       "      <th id=\"T_bad9b_level0_row17\" class=\"row_heading level0 row17\" >17</th>\n",
       "      <td id=\"T_bad9b_row17_col0\" class=\"data row17 col0\" >Experiment Name</td>\n",
       "      <td id=\"T_bad9b_row17_col1\" class=\"data row17 col1\" >clf-default-name</td>\n",
       "    </tr>\n",
       "    <tr>\n",
       "      <th id=\"T_bad9b_level0_row18\" class=\"row_heading level0 row18\" >18</th>\n",
       "      <td id=\"T_bad9b_row18_col0\" class=\"data row18 col0\" >USI</td>\n",
       "      <td id=\"T_bad9b_row18_col1\" class=\"data row18 col1\" >b0a8</td>\n",
       "    </tr>\n",
       "  </tbody>\n",
       "</table>\n"
      ],
      "text/plain": [
       "<pandas.io.formats.style.Styler at 0x7f7ed53afe80>"
      ]
     },
     "metadata": {},
     "output_type": "display_data"
    },
    {
     "data": {
      "text/html": [],
      "text/plain": [
       "<IPython.core.display.HTML object>"
      ]
     },
     "metadata": {},
     "output_type": "display_data"
    },
    {
     "data": {
      "text/html": [
       "<style type=\"text/css\">\n",
       "#T_9ea35 th {\n",
       "  text-align: left;\n",
       "}\n",
       "#T_9ea35_row0_col0, #T_9ea35_row0_col2, #T_9ea35_row1_col0, #T_9ea35_row1_col1, #T_9ea35_row1_col2, #T_9ea35_row1_col3, #T_9ea35_row1_col4, #T_9ea35_row1_col5, #T_9ea35_row1_col6, #T_9ea35_row1_col7, #T_9ea35_row2_col0, #T_9ea35_row2_col1, #T_9ea35_row2_col2, #T_9ea35_row2_col3, #T_9ea35_row2_col4, #T_9ea35_row2_col5, #T_9ea35_row2_col6, #T_9ea35_row2_col7, #T_9ea35_row3_col0, #T_9ea35_row3_col1, #T_9ea35_row3_col3, #T_9ea35_row3_col4, #T_9ea35_row3_col5, #T_9ea35_row3_col6, #T_9ea35_row3_col7, #T_9ea35_row4_col0, #T_9ea35_row4_col1, #T_9ea35_row4_col2, #T_9ea35_row4_col3, #T_9ea35_row4_col4, #T_9ea35_row4_col5, #T_9ea35_row4_col6, #T_9ea35_row4_col7, #T_9ea35_row5_col0, #T_9ea35_row5_col1, #T_9ea35_row5_col2, #T_9ea35_row5_col3, #T_9ea35_row5_col4, #T_9ea35_row5_col5, #T_9ea35_row5_col6, #T_9ea35_row5_col7, #T_9ea35_row6_col0, #T_9ea35_row6_col1, #T_9ea35_row6_col2, #T_9ea35_row6_col3, #T_9ea35_row6_col4, #T_9ea35_row6_col5, #T_9ea35_row6_col6, #T_9ea35_row6_col7, #T_9ea35_row7_col0, #T_9ea35_row7_col1, #T_9ea35_row7_col2, #T_9ea35_row7_col3, #T_9ea35_row7_col4, #T_9ea35_row7_col5, #T_9ea35_row7_col6, #T_9ea35_row7_col7, #T_9ea35_row8_col0, #T_9ea35_row8_col1, #T_9ea35_row8_col2, #T_9ea35_row8_col3, #T_9ea35_row8_col4, #T_9ea35_row8_col5, #T_9ea35_row8_col6, #T_9ea35_row8_col7, #T_9ea35_row9_col0, #T_9ea35_row9_col1, #T_9ea35_row9_col2, #T_9ea35_row9_col3, #T_9ea35_row9_col4, #T_9ea35_row9_col5, #T_9ea35_row9_col6, #T_9ea35_row9_col7, #T_9ea35_row10_col0, #T_9ea35_row10_col1, #T_9ea35_row10_col2, #T_9ea35_row10_col3, #T_9ea35_row10_col4, #T_9ea35_row10_col5, #T_9ea35_row10_col6, #T_9ea35_row10_col7, #T_9ea35_row11_col0, #T_9ea35_row11_col1, #T_9ea35_row11_col2, #T_9ea35_row11_col3, #T_9ea35_row11_col4, #T_9ea35_row11_col5, #T_9ea35_row11_col6, #T_9ea35_row11_col7, #T_9ea35_row12_col0, #T_9ea35_row12_col1, #T_9ea35_row12_col2, #T_9ea35_row12_col3, #T_9ea35_row12_col4, #T_9ea35_row12_col5, #T_9ea35_row12_col6, #T_9ea35_row12_col7, #T_9ea35_row13_col0, #T_9ea35_row13_col1, #T_9ea35_row13_col2, #T_9ea35_row13_col3, #T_9ea35_row13_col4, #T_9ea35_row13_col5, #T_9ea35_row13_col6, #T_9ea35_row13_col7, #T_9ea35_row14_col0, #T_9ea35_row14_col1, #T_9ea35_row14_col2, #T_9ea35_row14_col3, #T_9ea35_row14_col4, #T_9ea35_row14_col5, #T_9ea35_row14_col6, #T_9ea35_row14_col7, #T_9ea35_row15_col0, #T_9ea35_row15_col1, #T_9ea35_row15_col2, #T_9ea35_row15_col3, #T_9ea35_row15_col4, #T_9ea35_row15_col5, #T_9ea35_row15_col6, #T_9ea35_row15_col7 {\n",
       "  text-align: left;\n",
       "}\n",
       "#T_9ea35_row0_col1, #T_9ea35_row0_col3, #T_9ea35_row0_col4, #T_9ea35_row0_col5, #T_9ea35_row0_col6, #T_9ea35_row0_col7, #T_9ea35_row3_col2 {\n",
       "  text-align: left;\n",
       "  background-color: yellow;\n",
       "}\n",
       "#T_9ea35_row0_col8 {\n",
       "  text-align: left;\n",
       "  background-color: yellow;\n",
       "  background-color: lightgrey;\n",
       "}\n",
       "#T_9ea35_row1_col8, #T_9ea35_row2_col8, #T_9ea35_row3_col8, #T_9ea35_row4_col8, #T_9ea35_row5_col8, #T_9ea35_row6_col8, #T_9ea35_row7_col8, #T_9ea35_row8_col8, #T_9ea35_row9_col8, #T_9ea35_row10_col8, #T_9ea35_row11_col8, #T_9ea35_row12_col8, #T_9ea35_row13_col8, #T_9ea35_row14_col8, #T_9ea35_row15_col8 {\n",
       "  text-align: left;\n",
       "  background-color: lightgrey;\n",
       "}\n",
       "</style>\n",
       "<table id=\"T_9ea35\">\n",
       "  <thead>\n",
       "    <tr>\n",
       "      <th class=\"blank level0\" >&nbsp;</th>\n",
       "      <th id=\"T_9ea35_level0_col0\" class=\"col_heading level0 col0\" >Model</th>\n",
       "      <th id=\"T_9ea35_level0_col1\" class=\"col_heading level0 col1\" >Accuracy</th>\n",
       "      <th id=\"T_9ea35_level0_col2\" class=\"col_heading level0 col2\" >AUC</th>\n",
       "      <th id=\"T_9ea35_level0_col3\" class=\"col_heading level0 col3\" >Recall</th>\n",
       "      <th id=\"T_9ea35_level0_col4\" class=\"col_heading level0 col4\" >Prec.</th>\n",
       "      <th id=\"T_9ea35_level0_col5\" class=\"col_heading level0 col5\" >F1</th>\n",
       "      <th id=\"T_9ea35_level0_col6\" class=\"col_heading level0 col6\" >Kappa</th>\n",
       "      <th id=\"T_9ea35_level0_col7\" class=\"col_heading level0 col7\" >MCC</th>\n",
       "      <th id=\"T_9ea35_level0_col8\" class=\"col_heading level0 col8\" >TT (Sec)</th>\n",
       "    </tr>\n",
       "  </thead>\n",
       "  <tbody>\n",
       "    <tr>\n",
       "      <th id=\"T_9ea35_level0_row0\" class=\"row_heading level0 row0\" >qda</th>\n",
       "      <td id=\"T_9ea35_row0_col0\" class=\"data row0 col0\" >Quadratic Discriminant Analysis</td>\n",
       "      <td id=\"T_9ea35_row0_col1\" class=\"data row0 col1\" >0.9809</td>\n",
       "      <td id=\"T_9ea35_row0_col2\" class=\"data row0 col2\" >0.0000</td>\n",
       "      <td id=\"T_9ea35_row0_col3\" class=\"data row0 col3\" >0.9809</td>\n",
       "      <td id=\"T_9ea35_row0_col4\" class=\"data row0 col4\" >0.9852</td>\n",
       "      <td id=\"T_9ea35_row0_col5\" class=\"data row0 col5\" >0.9805</td>\n",
       "      <td id=\"T_9ea35_row0_col6\" class=\"data row0 col6\" >0.9711</td>\n",
       "      <td id=\"T_9ea35_row0_col7\" class=\"data row0 col7\" >0.9735</td>\n",
       "      <td id=\"T_9ea35_row0_col8\" class=\"data row0 col8\" >0.0190</td>\n",
       "    </tr>\n",
       "    <tr>\n",
       "      <th id=\"T_9ea35_level0_row1\" class=\"row_heading level0 row1\" >nb</th>\n",
       "      <td id=\"T_9ea35_row1_col0\" class=\"data row1 col0\" >Naive Bayes</td>\n",
       "      <td id=\"T_9ea35_row1_col1\" class=\"data row1 col1\" >0.9727</td>\n",
       "      <td id=\"T_9ea35_row1_col2\" class=\"data row1 col2\" >0.9974</td>\n",
       "      <td id=\"T_9ea35_row1_col3\" class=\"data row1 col3\" >0.9727</td>\n",
       "      <td id=\"T_9ea35_row1_col4\" class=\"data row1 col4\" >0.9806</td>\n",
       "      <td id=\"T_9ea35_row1_col5\" class=\"data row1 col5\" >0.9714</td>\n",
       "      <td id=\"T_9ea35_row1_col6\" class=\"data row1 col6\" >0.9588</td>\n",
       "      <td id=\"T_9ea35_row1_col7\" class=\"data row1 col7\" >0.9638</td>\n",
       "      <td id=\"T_9ea35_row1_col8\" class=\"data row1 col8\" >0.0210</td>\n",
       "    </tr>\n",
       "    <tr>\n",
       "      <th id=\"T_9ea35_level0_row2\" class=\"row_heading level0 row2\" >lda</th>\n",
       "      <td id=\"T_9ea35_row2_col0\" class=\"data row2 col0\" >Linear Discriminant Analysis</td>\n",
       "      <td id=\"T_9ea35_row2_col1\" class=\"data row2 col1\" >0.9718</td>\n",
       "      <td id=\"T_9ea35_row2_col2\" class=\"data row2 col2\" >0.0000</td>\n",
       "      <td id=\"T_9ea35_row2_col3\" class=\"data row2 col3\" >0.9718</td>\n",
       "      <td id=\"T_9ea35_row2_col4\" class=\"data row2 col4\" >0.9780</td>\n",
       "      <td id=\"T_9ea35_row2_col5\" class=\"data row2 col5\" >0.9712</td>\n",
       "      <td id=\"T_9ea35_row2_col6\" class=\"data row2 col6\" >0.9573</td>\n",
       "      <td id=\"T_9ea35_row2_col7\" class=\"data row2 col7\" >0.9609</td>\n",
       "      <td id=\"T_9ea35_row2_col8\" class=\"data row2 col8\" >0.0200</td>\n",
       "    </tr>\n",
       "    <tr>\n",
       "      <th id=\"T_9ea35_level0_row3\" class=\"row_heading level0 row3\" >et</th>\n",
       "      <td id=\"T_9ea35_row3_col0\" class=\"data row3 col0\" >Extra Trees Classifier</td>\n",
       "      <td id=\"T_9ea35_row3_col1\" class=\"data row3 col1\" >0.9718</td>\n",
       "      <td id=\"T_9ea35_row3_col2\" class=\"data row3 col2\" >1.0000</td>\n",
       "      <td id=\"T_9ea35_row3_col3\" class=\"data row3 col3\" >0.9718</td>\n",
       "      <td id=\"T_9ea35_row3_col4\" class=\"data row3 col4\" >0.9780</td>\n",
       "      <td id=\"T_9ea35_row3_col5\" class=\"data row3 col5\" >0.9712</td>\n",
       "      <td id=\"T_9ea35_row3_col6\" class=\"data row3 col6\" >0.9573</td>\n",
       "      <td id=\"T_9ea35_row3_col7\" class=\"data row3 col7\" >0.9609</td>\n",
       "      <td id=\"T_9ea35_row3_col8\" class=\"data row3 col8\" >0.1140</td>\n",
       "    </tr>\n",
       "    <tr>\n",
       "      <th id=\"T_9ea35_level0_row4\" class=\"row_heading level0 row4\" >lr</th>\n",
       "      <td id=\"T_9ea35_row4_col0\" class=\"data row4 col0\" >Logistic Regression</td>\n",
       "      <td id=\"T_9ea35_row4_col1\" class=\"data row4 col1\" >0.9618</td>\n",
       "      <td id=\"T_9ea35_row4_col2\" class=\"data row4 col2\" >0.0000</td>\n",
       "      <td id=\"T_9ea35_row4_col3\" class=\"data row4 col3\" >0.9618</td>\n",
       "      <td id=\"T_9ea35_row4_col4\" class=\"data row4 col4\" >0.9705</td>\n",
       "      <td id=\"T_9ea35_row4_col5\" class=\"data row4 col5\" >0.9610</td>\n",
       "      <td id=\"T_9ea35_row4_col6\" class=\"data row4 col6\" >0.9422</td>\n",
       "      <td id=\"T_9ea35_row4_col7\" class=\"data row4 col7\" >0.9470</td>\n",
       "      <td id=\"T_9ea35_row4_col8\" class=\"data row4 col8\" >0.9300</td>\n",
       "    </tr>\n",
       "    <tr>\n",
       "      <th id=\"T_9ea35_level0_row5\" class=\"row_heading level0 row5\" >ada</th>\n",
       "      <td id=\"T_9ea35_row5_col0\" class=\"data row5 col0\" >Ada Boost Classifier</td>\n",
       "      <td id=\"T_9ea35_row5_col1\" class=\"data row5 col1\" >0.9618</td>\n",
       "      <td id=\"T_9ea35_row5_col2\" class=\"data row5 col2\" >0.0000</td>\n",
       "      <td id=\"T_9ea35_row5_col3\" class=\"data row5 col3\" >0.9618</td>\n",
       "      <td id=\"T_9ea35_row5_col4\" class=\"data row5 col4\" >0.9705</td>\n",
       "      <td id=\"T_9ea35_row5_col5\" class=\"data row5 col5\" >0.9610</td>\n",
       "      <td id=\"T_9ea35_row5_col6\" class=\"data row5 col6\" >0.9422</td>\n",
       "      <td id=\"T_9ea35_row5_col7\" class=\"data row5 col7\" >0.9470</td>\n",
       "      <td id=\"T_9ea35_row5_col8\" class=\"data row5 col8\" >0.0790</td>\n",
       "    </tr>\n",
       "    <tr>\n",
       "      <th id=\"T_9ea35_level0_row6\" class=\"row_heading level0 row6\" >catboost</th>\n",
       "      <td id=\"T_9ea35_row6_col0\" class=\"data row6 col0\" >CatBoost Classifier</td>\n",
       "      <td id=\"T_9ea35_row6_col1\" class=\"data row6 col1\" >0.9618</td>\n",
       "      <td id=\"T_9ea35_row6_col2\" class=\"data row6 col2\" >0.9971</td>\n",
       "      <td id=\"T_9ea35_row6_col3\" class=\"data row6 col3\" >0.9618</td>\n",
       "      <td id=\"T_9ea35_row6_col4\" class=\"data row6 col4\" >0.9705</td>\n",
       "      <td id=\"T_9ea35_row6_col5\" class=\"data row6 col5\" >0.9610</td>\n",
       "      <td id=\"T_9ea35_row6_col6\" class=\"data row6 col6\" >0.9422</td>\n",
       "      <td id=\"T_9ea35_row6_col7\" class=\"data row6 col7\" >0.9470</td>\n",
       "      <td id=\"T_9ea35_row6_col8\" class=\"data row6 col8\" >1.1590</td>\n",
       "    </tr>\n",
       "    <tr>\n",
       "      <th id=\"T_9ea35_level0_row7\" class=\"row_heading level0 row7\" >knn</th>\n",
       "      <td id=\"T_9ea35_row7_col0\" class=\"data row7 col0\" >K Neighbors Classifier</td>\n",
       "      <td id=\"T_9ea35_row7_col1\" class=\"data row7 col1\" >0.9527</td>\n",
       "      <td id=\"T_9ea35_row7_col2\" class=\"data row7 col2\" >0.9888</td>\n",
       "      <td id=\"T_9ea35_row7_col3\" class=\"data row7 col3\" >0.9527</td>\n",
       "      <td id=\"T_9ea35_row7_col4\" class=\"data row7 col4\" >0.9595</td>\n",
       "      <td id=\"T_9ea35_row7_col5\" class=\"data row7 col5\" >0.9520</td>\n",
       "      <td id=\"T_9ea35_row7_col6\" class=\"data row7 col6\" >0.9284</td>\n",
       "      <td id=\"T_9ea35_row7_col7\" class=\"data row7 col7\" >0.9322</td>\n",
       "      <td id=\"T_9ea35_row7_col8\" class=\"data row7 col8\" >0.0300</td>\n",
       "    </tr>\n",
       "    <tr>\n",
       "      <th id=\"T_9ea35_level0_row8\" class=\"row_heading level0 row8\" >rf</th>\n",
       "      <td id=\"T_9ea35_row8_col0\" class=\"data row8 col0\" >Random Forest Classifier</td>\n",
       "      <td id=\"T_9ea35_row8_col1\" class=\"data row8 col1\" >0.9518</td>\n",
       "      <td id=\"T_9ea35_row8_col2\" class=\"data row8 col2\" >0.9951</td>\n",
       "      <td id=\"T_9ea35_row8_col3\" class=\"data row8 col3\" >0.9518</td>\n",
       "      <td id=\"T_9ea35_row8_col4\" class=\"data row8 col4\" >0.9660</td>\n",
       "      <td id=\"T_9ea35_row8_col5\" class=\"data row8 col5\" >0.9487</td>\n",
       "      <td id=\"T_9ea35_row8_col6\" class=\"data row8 col6\" >0.9270</td>\n",
       "      <td id=\"T_9ea35_row8_col7\" class=\"data row8 col7\" >0.9352</td>\n",
       "      <td id=\"T_9ea35_row8_col8\" class=\"data row8 col8\" >0.1560</td>\n",
       "    </tr>\n",
       "    <tr>\n",
       "      <th id=\"T_9ea35_level0_row9\" class=\"row_heading level0 row9\" >gbc</th>\n",
       "      <td id=\"T_9ea35_row9_col0\" class=\"data row9 col0\" >Gradient Boosting Classifier</td>\n",
       "      <td id=\"T_9ea35_row9_col1\" class=\"data row9 col1\" >0.9518</td>\n",
       "      <td id=\"T_9ea35_row9_col2\" class=\"data row9 col2\" >0.0000</td>\n",
       "      <td id=\"T_9ea35_row9_col3\" class=\"data row9 col3\" >0.9518</td>\n",
       "      <td id=\"T_9ea35_row9_col4\" class=\"data row9 col4\" >0.9660</td>\n",
       "      <td id=\"T_9ea35_row9_col5\" class=\"data row9 col5\" >0.9487</td>\n",
       "      <td id=\"T_9ea35_row9_col6\" class=\"data row9 col6\" >0.9270</td>\n",
       "      <td id=\"T_9ea35_row9_col7\" class=\"data row9 col7\" >0.9352</td>\n",
       "      <td id=\"T_9ea35_row9_col8\" class=\"data row9 col8\" >0.1770</td>\n",
       "    </tr>\n",
       "    <tr>\n",
       "      <th id=\"T_9ea35_level0_row10\" class=\"row_heading level0 row10\" >xgboost</th>\n",
       "      <td id=\"T_9ea35_row10_col0\" class=\"data row10 col0\" >Extreme Gradient Boosting</td>\n",
       "      <td id=\"T_9ea35_row10_col1\" class=\"data row10 col1\" >0.9436</td>\n",
       "      <td id=\"T_9ea35_row10_col2\" class=\"data row10 col2\" >0.9847</td>\n",
       "      <td id=\"T_9ea35_row10_col3\" class=\"data row10 col3\" >0.9436</td>\n",
       "      <td id=\"T_9ea35_row10_col4\" class=\"data row10 col4\" >0.9588</td>\n",
       "      <td id=\"T_9ea35_row10_col5\" class=\"data row10 col5\" >0.9417</td>\n",
       "      <td id=\"T_9ea35_row10_col6\" class=\"data row10 col6\" >0.9149</td>\n",
       "      <td id=\"T_9ea35_row10_col7\" class=\"data row10 col7\" >0.9236</td>\n",
       "      <td id=\"T_9ea35_row10_col8\" class=\"data row10 col8\" >0.0520</td>\n",
       "    </tr>\n",
       "    <tr>\n",
       "      <th id=\"T_9ea35_level0_row11\" class=\"row_heading level0 row11\" >lightgbm</th>\n",
       "      <td id=\"T_9ea35_row11_col0\" class=\"data row11 col0\" >Light Gradient Boosting Machine</td>\n",
       "      <td id=\"T_9ea35_row11_col1\" class=\"data row11 col1\" >0.9427</td>\n",
       "      <td id=\"T_9ea35_row11_col2\" class=\"data row11 col2\" >0.9713</td>\n",
       "      <td id=\"T_9ea35_row11_col3\" class=\"data row11 col3\" >0.9427</td>\n",
       "      <td id=\"T_9ea35_row11_col4\" class=\"data row11 col4\" >0.9520</td>\n",
       "      <td id=\"T_9ea35_row11_col5\" class=\"data row11 col5\" >0.9417</td>\n",
       "      <td id=\"T_9ea35_row11_col6\" class=\"data row11 col6\" >0.9133</td>\n",
       "      <td id=\"T_9ea35_row11_col7\" class=\"data row11 col7\" >0.9183</td>\n",
       "      <td id=\"T_9ea35_row11_col8\" class=\"data row11 col8\" >55.3160</td>\n",
       "    </tr>\n",
       "    <tr>\n",
       "      <th id=\"T_9ea35_level0_row12\" class=\"row_heading level0 row12\" >dt</th>\n",
       "      <td id=\"T_9ea35_row12_col0\" class=\"data row12 col0\" >Decision Tree Classifier</td>\n",
       "      <td id=\"T_9ea35_row12_col1\" class=\"data row12 col1\" >0.9318</td>\n",
       "      <td id=\"T_9ea35_row12_col2\" class=\"data row12 col2\" >0.9500</td>\n",
       "      <td id=\"T_9ea35_row12_col3\" class=\"data row12 col3\" >0.9318</td>\n",
       "      <td id=\"T_9ea35_row12_col4\" class=\"data row12 col4\" >0.9460</td>\n",
       "      <td id=\"T_9ea35_row12_col5\" class=\"data row12 col5\" >0.9287</td>\n",
       "      <td id=\"T_9ea35_row12_col6\" class=\"data row12 col6\" >0.8967</td>\n",
       "      <td id=\"T_9ea35_row12_col7\" class=\"data row12 col7\" >0.9049</td>\n",
       "      <td id=\"T_9ea35_row12_col8\" class=\"data row12 col8\" >0.0220</td>\n",
       "    </tr>\n",
       "    <tr>\n",
       "      <th id=\"T_9ea35_level0_row13\" class=\"row_heading level0 row13\" >ridge</th>\n",
       "      <td id=\"T_9ea35_row13_col0\" class=\"data row13 col0\" >Ridge Classifier</td>\n",
       "      <td id=\"T_9ea35_row13_col1\" class=\"data row13 col1\" >0.8882</td>\n",
       "      <td id=\"T_9ea35_row13_col2\" class=\"data row13 col2\" >0.0000</td>\n",
       "      <td id=\"T_9ea35_row13_col3\" class=\"data row13 col3\" >0.8882</td>\n",
       "      <td id=\"T_9ea35_row13_col4\" class=\"data row13 col4\" >0.9150</td>\n",
       "      <td id=\"T_9ea35_row13_col5\" class=\"data row13 col5\" >0.8823</td>\n",
       "      <td id=\"T_9ea35_row13_col6\" class=\"data row13 col6\" >0.8308</td>\n",
       "      <td id=\"T_9ea35_row13_col7\" class=\"data row13 col7\" >0.8476</td>\n",
       "      <td id=\"T_9ea35_row13_col8\" class=\"data row13 col8\" >0.0200</td>\n",
       "    </tr>\n",
       "    <tr>\n",
       "      <th id=\"T_9ea35_level0_row14\" class=\"row_heading level0 row14\" >svm</th>\n",
       "      <td id=\"T_9ea35_row14_col0\" class=\"data row14 col0\" >SVM - Linear Kernel</td>\n",
       "      <td id=\"T_9ea35_row14_col1\" class=\"data row14 col1\" >0.8736</td>\n",
       "      <td id=\"T_9ea35_row14_col2\" class=\"data row14 col2\" >0.0000</td>\n",
       "      <td id=\"T_9ea35_row14_col3\" class=\"data row14 col3\" >0.8736</td>\n",
       "      <td id=\"T_9ea35_row14_col4\" class=\"data row14 col4\" >0.8850</td>\n",
       "      <td id=\"T_9ea35_row14_col5\" class=\"data row14 col5\" >0.8518</td>\n",
       "      <td id=\"T_9ea35_row14_col6\" class=\"data row14 col6\" >0.8077</td>\n",
       "      <td id=\"T_9ea35_row14_col7\" class=\"data row14 col7\" >0.8340</td>\n",
       "      <td id=\"T_9ea35_row14_col8\" class=\"data row14 col8\" >0.0260</td>\n",
       "    </tr>\n",
       "    <tr>\n",
       "      <th id=\"T_9ea35_level0_row15\" class=\"row_heading level0 row15\" >dummy</th>\n",
       "      <td id=\"T_9ea35_row15_col0\" class=\"data row15 col0\" >Dummy Classifier</td>\n",
       "      <td id=\"T_9ea35_row15_col1\" class=\"data row15 col1\" >0.2864</td>\n",
       "      <td id=\"T_9ea35_row15_col2\" class=\"data row15 col2\" >0.5000</td>\n",
       "      <td id=\"T_9ea35_row15_col3\" class=\"data row15 col3\" >0.2864</td>\n",
       "      <td id=\"T_9ea35_row15_col4\" class=\"data row15 col4\" >0.0822</td>\n",
       "      <td id=\"T_9ea35_row15_col5\" class=\"data row15 col5\" >0.1277</td>\n",
       "      <td id=\"T_9ea35_row15_col6\" class=\"data row15 col6\" >0.0000</td>\n",
       "      <td id=\"T_9ea35_row15_col7\" class=\"data row15 col7\" >0.0000</td>\n",
       "      <td id=\"T_9ea35_row15_col8\" class=\"data row15 col8\" >0.0300</td>\n",
       "    </tr>\n",
       "  </tbody>\n",
       "</table>\n"
      ],
      "text/plain": [
       "<pandas.io.formats.style.Styler at 0x7f7ecddd6040>"
      ]
     },
     "metadata": {},
     "output_type": "display_data"
    },
    {
     "data": {
      "text/html": [],
      "text/plain": [
       "<IPython.core.display.HTML object>"
      ]
     },
     "metadata": {},
     "output_type": "display_data"
    }
   ],
   "source": [
    "clf_setup = setup(data=df, target='class', session_id=42)\n",
    "best_model = compare_models()"
   ]
  },
  {
   "cell_type": "markdown",
   "id": "f9865bf1",
   "metadata": {},
   "source": [
    "## Optuna Hyperparameter Tuning"
   ]
  },
  {
   "cell_type": "code",
   "execution_count": 26,
   "id": "4c95ab3f",
   "metadata": {},
   "outputs": [],
   "source": [
    "X = df.drop(columns=[\"class\"])\n",
    "y = df[\"class\"]\n",
    "\n",
    "X_train, X_test, y_train, y_test = train_test_split(X, y, test_size=0.2, random_state=42)"
   ]
  },
  {
   "cell_type": "code",
   "execution_count": 27,
   "id": "a620c4c9",
   "metadata": {},
   "outputs": [
    {
     "name": "stderr",
     "output_type": "stream",
     "text": [
      "[I 2025-05-06 09:01:11,814] A new study created in memory with name: no-name-5d87809e-6161-40fa-8f34-73edb3f2984b\n",
      "[I 2025-05-06 09:01:12,617] Trial 0 finished with value: 0.9533333333333334 and parameters: {'n_estimators': 152, 'max_depth': 14, 'min_samples_split': 0.5287014431850422, 'min_samples_leaf': 3, 'max_features': 'log2', 'criterion': 'log_loss'}. Best is trial 0 with value: 0.9533333333333334.\n",
      "[I 2025-05-06 09:01:13,355] Trial 1 finished with value: 0.9533333333333334 and parameters: {'n_estimators': 157, 'max_depth': 8, 'min_samples_split': 0.10709085044191928, 'min_samples_leaf': 4, 'max_features': 'log2', 'criterion': 'entropy'}. Best is trial 0 with value: 0.9533333333333334.\n",
      "[I 2025-05-06 09:01:14,184] Trial 2 finished with value: 0.9533333333333334 and parameters: {'n_estimators': 182, 'max_depth': 6, 'min_samples_split': 0.5878315578487685, 'min_samples_leaf': 4, 'max_features': None, 'criterion': 'gini'}. Best is trial 0 with value: 0.9533333333333334.\n",
      "[I 2025-05-06 09:01:14,792] Trial 3 finished with value: 0.9199999999999999 and parameters: {'n_estimators': 137, 'max_depth': 7, 'min_samples_split': 0.7928202579306831, 'min_samples_leaf': 7, 'max_features': 'sqrt', 'criterion': 'log_loss'}. Best is trial 0 with value: 0.9533333333333334.\n",
      "[I 2025-05-06 09:01:15,325] Trial 4 finished with value: 0.9533333333333334 and parameters: {'n_estimators': 116, 'max_depth': 32, 'min_samples_split': 0.19252380786208126, 'min_samples_leaf': 6, 'max_features': 'log2', 'criterion': 'entropy'}. Best is trial 0 with value: 0.9533333333333334.\n",
      "[I 2025-05-06 09:01:15,782] Trial 5 finished with value: 0.9533333333333334 and parameters: {'n_estimators': 94, 'max_depth': 15, 'min_samples_split': 0.36235643947559637, 'min_samples_leaf': 3, 'max_features': None, 'criterion': 'entropy'}. Best is trial 0 with value: 0.9533333333333334.\n",
      "[I 2025-05-06 09:01:16,224] Trial 6 finished with value: 0.8866666666666667 and parameters: {'n_estimators': 95, 'max_depth': 29, 'min_samples_split': 0.9597872867268396, 'min_samples_leaf': 2, 'max_features': 'log2', 'criterion': 'entropy'}. Best is trial 0 with value: 0.9533333333333334.\n",
      "[I 2025-05-06 09:01:17,312] Trial 7 finished with value: 0.9533333333333334 and parameters: {'n_estimators': 260, 'max_depth': 7, 'min_samples_split': 0.6526015135733587, 'min_samples_leaf': 7, 'max_features': None, 'criterion': 'gini'}. Best is trial 0 with value: 0.9533333333333334.\n",
      "[I 2025-05-06 09:01:18,047] Trial 8 finished with value: 0.9266666666666665 and parameters: {'n_estimators': 165, 'max_depth': 22, 'min_samples_split': 0.7302337192675111, 'min_samples_leaf': 3, 'max_features': 'log2', 'criterion': 'log_loss'}. Best is trial 0 with value: 0.9533333333333334.\n",
      "[I 2025-05-06 09:01:19,353] Trial 9 finished with value: 0.9533333333333334 and parameters: {'n_estimators': 289, 'max_depth': 24, 'min_samples_split': 0.5497190306507301, 'min_samples_leaf': 8, 'max_features': None, 'criterion': 'entropy'}. Best is trial 0 with value: 0.9533333333333334.\n",
      "[I 2025-05-06 09:01:19,712] Trial 10 finished with value: 0.9533333333333334 and parameters: {'n_estimators': 54, 'max_depth': 13, 'min_samples_split': 0.3992743021033754, 'min_samples_leaf': 10, 'max_features': 'sqrt', 'criterion': 'log_loss'}. Best is trial 0 with value: 0.9533333333333334.\n",
      "[I 2025-05-06 09:01:20,664] Trial 11 finished with value: 0.9466666666666667 and parameters: {'n_estimators': 216, 'max_depth': 2, 'min_samples_split': 0.10578378116758735, 'min_samples_leaf': 1, 'max_features': 'log2', 'criterion': 'log_loss'}. Best is trial 0 with value: 0.9533333333333334.\n",
      "[I 2025-05-06 09:01:21,544] Trial 12 finished with value: 0.9600000000000002 and parameters: {'n_estimators': 204, 'max_depth': 11, 'min_samples_split': 0.33053791906237495, 'min_samples_leaf': 5, 'max_features': 'log2', 'criterion': 'entropy'}. Best is trial 12 with value: 0.9600000000000002.\n",
      "[I 2025-05-06 09:01:22,459] Trial 13 finished with value: 0.9600000000000002 and parameters: {'n_estimators': 214, 'max_depth': 13, 'min_samples_split': 0.38885797700919106, 'min_samples_leaf': 5, 'max_features': 'log2', 'criterion': 'log_loss'}. Best is trial 12 with value: 0.9600000000000002.\n",
      "[I 2025-05-06 09:01:23,401] Trial 14 finished with value: 0.9600000000000002 and parameters: {'n_estimators': 220, 'max_depth': 19, 'min_samples_split': 0.37061349679965866, 'min_samples_leaf': 5, 'max_features': 'log2', 'criterion': 'gini'}. Best is trial 12 with value: 0.9600000000000002.\n",
      "[I 2025-05-06 09:01:24,362] Trial 15 finished with value: 0.9533333333333334 and parameters: {'n_estimators': 220, 'max_depth': 12, 'min_samples_split': 0.27467519428134346, 'min_samples_leaf': 5, 'max_features': 'log2', 'criterion': 'entropy'}. Best is trial 12 with value: 0.9600000000000002.\n",
      "[I 2025-05-06 09:01:25,447] Trial 16 finished with value: 0.9533333333333334 and parameters: {'n_estimators': 252, 'max_depth': 18, 'min_samples_split': 0.4529766756059802, 'min_samples_leaf': 9, 'max_features': 'sqrt', 'criterion': 'log_loss'}. Best is trial 12 with value: 0.9600000000000002.\n",
      "[I 2025-05-06 09:01:26,326] Trial 17 finished with value: 0.9600000000000002 and parameters: {'n_estimators': 197, 'max_depth': 11, 'min_samples_split': 0.25741840785542547, 'min_samples_leaf': 6, 'max_features': 'log2', 'criterion': 'log_loss'}. Best is trial 12 with value: 0.9600000000000002.\n",
      "[I 2025-05-06 09:01:27,396] Trial 18 finished with value: 0.9466666666666667 and parameters: {'n_estimators': 250, 'max_depth': 2, 'min_samples_split': 0.28479394649037937, 'min_samples_leaf': 7, 'max_features': 'log2', 'criterion': 'entropy'}. Best is trial 12 with value: 0.9600000000000002.\n",
      "[I 2025-05-06 09:01:28,642] Trial 19 finished with value: 0.9466666666666667 and parameters: {'n_estimators': 296, 'max_depth': 23, 'min_samples_split': 0.4498042456025364, 'min_samples_leaf': 4, 'max_features': 'sqrt', 'criterion': 'gini'}. Best is trial 12 with value: 0.9600000000000002.\n",
      "[I 2025-05-06 09:01:29,493] Trial 20 finished with value: 0.9666666666666668 and parameters: {'n_estimators': 194, 'max_depth': 10, 'min_samples_split': 0.21508543611733513, 'min_samples_leaf': 1, 'max_features': 'log2', 'criterion': 'entropy'}. Best is trial 20 with value: 0.9666666666666668.\n",
      "[I 2025-05-06 09:01:30,380] Trial 21 finished with value: 0.9666666666666668 and parameters: {'n_estimators': 196, 'max_depth': 10, 'min_samples_split': 0.24254456664435226, 'min_samples_leaf': 1, 'max_features': 'log2', 'criterion': 'entropy'}. Best is trial 20 with value: 0.9666666666666668.\n",
      "[I 2025-05-06 09:01:31,249] Trial 22 finished with value: 0.9666666666666668 and parameters: {'n_estimators': 190, 'max_depth': 10, 'min_samples_split': 0.23238405370275345, 'min_samples_leaf': 1, 'max_features': 'log2', 'criterion': 'entropy'}. Best is trial 20 with value: 0.9666666666666668.\n",
      "[I 2025-05-06 09:01:32,069] Trial 23 finished with value: 0.9666666666666668 and parameters: {'n_estimators': 184, 'max_depth': 9, 'min_samples_split': 0.19678260837260025, 'min_samples_leaf': 1, 'max_features': 'log2', 'criterion': 'entropy'}. Best is trial 20 with value: 0.9666666666666668.\n",
      "[I 2025-05-06 09:01:32,708] Trial 24 finished with value: 0.9666666666666668 and parameters: {'n_estimators': 138, 'max_depth': 16, 'min_samples_split': 0.19165624411604795, 'min_samples_leaf': 2, 'max_features': 'log2', 'criterion': 'entropy'}. Best is trial 20 with value: 0.9666666666666668.\n",
      "[I 2025-05-06 09:01:33,744] Trial 25 finished with value: 0.9533333333333334 and parameters: {'n_estimators': 239, 'max_depth': 4, 'min_samples_split': 0.17514316252959092, 'min_samples_leaf': 1, 'max_features': 'log2', 'criterion': 'entropy'}. Best is trial 20 with value: 0.9666666666666668.\n",
      "[I 2025-05-06 09:01:34,593] Trial 26 finished with value: 0.9600000000000002 and parameters: {'n_estimators': 186, 'max_depth': 10, 'min_samples_split': 0.2559159141153499, 'min_samples_leaf': 2, 'max_features': 'log2', 'criterion': 'entropy'}. Best is trial 20 with value: 0.9666666666666668.\n",
      "[I 2025-05-06 09:01:35,372] Trial 27 finished with value: 0.9533333333333334 and parameters: {'n_estimators': 168, 'max_depth': 20, 'min_samples_split': 0.4566937191927893, 'min_samples_leaf': 1, 'max_features': 'log2', 'criterion': 'entropy'}. Best is trial 20 with value: 0.9666666666666668.\n",
      "[I 2025-05-06 09:01:36,364] Trial 28 finished with value: 0.9533333333333334 and parameters: {'n_estimators': 231, 'max_depth': 4, 'min_samples_split': 0.15048593939664406, 'min_samples_leaf': 2, 'max_features': 'sqrt', 'criterion': 'entropy'}. Best is trial 20 with value: 0.9666666666666668.\n",
      "[I 2025-05-06 09:01:37,685] Trial 29 finished with value: 0.9533333333333334 and parameters: {'n_estimators': 270, 'max_depth': 15, 'min_samples_split': 0.3113560259233922, 'min_samples_leaf': 3, 'max_features': None, 'criterion': 'entropy'}. Best is trial 20 with value: 0.9666666666666668.\n",
      "[I 2025-05-06 09:01:38,376] Trial 30 finished with value: 0.9533333333333334 and parameters: {'n_estimators': 141, 'max_depth': 5, 'min_samples_split': 0.2407284184614642, 'min_samples_leaf': 2, 'max_features': 'log2', 'criterion': 'entropy'}. Best is trial 20 with value: 0.9666666666666668.\n",
      "[I 2025-05-06 09:01:39,152] Trial 31 finished with value: 0.9666666666666668 and parameters: {'n_estimators': 170, 'max_depth': 9, 'min_samples_split': 0.20308742107693437, 'min_samples_leaf': 1, 'max_features': 'log2', 'criterion': 'entropy'}. Best is trial 20 with value: 0.9666666666666668.\n",
      "[I 2025-05-06 09:01:40,135] Trial 32 finished with value: 0.9666666666666668 and parameters: {'n_estimators': 194, 'max_depth': 9, 'min_samples_split': 0.14081747818538254, 'min_samples_leaf': 1, 'max_features': 'log2', 'criterion': 'entropy'}. Best is trial 20 with value: 0.9666666666666668.\n",
      "[I 2025-05-06 09:01:40,952] Trial 33 finished with value: 0.9666666666666668 and parameters: {'n_estimators': 185, 'max_depth': 8, 'min_samples_split': 0.2241274385617595, 'min_samples_leaf': 1, 'max_features': 'log2', 'criterion': 'entropy'}. Best is trial 20 with value: 0.9666666666666668.\n",
      "[I 2025-05-06 09:01:41,718] Trial 34 finished with value: 0.9533333333333334 and parameters: {'n_estimators': 153, 'max_depth': 6, 'min_samples_split': 0.11471745196473404, 'min_samples_leaf': 2, 'max_features': 'log2', 'criterion': 'entropy'}. Best is trial 20 with value: 0.9666666666666668.\n",
      "[I 2025-05-06 09:01:42,626] Trial 35 finished with value: 0.9466666666666667 and parameters: {'n_estimators': 203, 'max_depth': 14, 'min_samples_split': 0.4963673262546472, 'min_samples_leaf': 4, 'max_features': 'log2', 'criterion': 'gini'}. Best is trial 20 with value: 0.9666666666666668.\n",
      "[I 2025-05-06 09:01:43,470] Trial 36 finished with value: 0.9533333333333334 and parameters: {'n_estimators': 178, 'max_depth': 10, 'min_samples_split': 0.32676692911356253, 'min_samples_leaf': 3, 'max_features': 'log2', 'criterion': 'entropy'}. Best is trial 20 with value: 0.9666666666666668.\n",
      "[I 2025-05-06 09:01:44,243] Trial 37 finished with value: 0.9333333333333333 and parameters: {'n_estimators': 154, 'max_depth': 8, 'min_samples_split': 0.9688297699023896, 'min_samples_leaf': 1, 'max_features': None, 'criterion': 'entropy'}. Best is trial 20 with value: 0.9666666666666668.\n",
      "[I 2025-05-06 09:01:44,913] Trial 38 finished with value: 0.9133333333333333 and parameters: {'n_estimators': 114, 'max_depth': 12, 'min_samples_split': 0.8307472653949974, 'min_samples_leaf': 2, 'max_features': 'log2', 'criterion': 'entropy'}. Best is trial 20 with value: 0.9666666666666668.\n",
      "[I 2025-05-06 09:01:45,944] Trial 39 finished with value: 0.9533333333333334 and parameters: {'n_estimators': 237, 'max_depth': 6, 'min_samples_split': 0.16091081462072793, 'min_samples_leaf': 3, 'max_features': 'sqrt', 'criterion': 'gini'}. Best is trial 20 with value: 0.9666666666666668.\n",
      "[I 2025-05-06 09:01:46,557] Trial 40 finished with value: 0.9666666666666668 and parameters: {'n_estimators': 121, 'max_depth': 17, 'min_samples_split': 0.651049529645432, 'min_samples_leaf': 1, 'max_features': None, 'criterion': 'entropy'}. Best is trial 20 with value: 0.9666666666666668.\n",
      "[I 2025-05-06 09:01:47,451] Trial 41 finished with value: 0.9600000000000002 and parameters: {'n_estimators': 180, 'max_depth': 15, 'min_samples_split': 0.18070517218628965, 'min_samples_leaf': 2, 'max_features': 'log2', 'criterion': 'entropy'}. Best is trial 20 with value: 0.9666666666666668.\n",
      "[I 2025-05-06 09:01:48,090] Trial 42 finished with value: 0.9600000000000002 and parameters: {'n_estimators': 140, 'max_depth': 16, 'min_samples_split': 0.21002429093377614, 'min_samples_leaf': 2, 'max_features': 'log2', 'criterion': 'entropy'}. Best is trial 20 with value: 0.9666666666666668.\n",
      "[I 2025-05-06 09:01:48,862] Trial 43 finished with value: 0.9600000000000002 and parameters: {'n_estimators': 162, 'max_depth': 26, 'min_samples_split': 0.28558963749322097, 'min_samples_leaf': 1, 'max_features': 'log2', 'criterion': 'entropy'}. Best is trial 20 with value: 0.9666666666666668.\n",
      "[I 2025-05-06 09:01:49,451] Trial 44 finished with value: 0.9666666666666668 and parameters: {'n_estimators': 127, 'max_depth': 13, 'min_samples_split': 0.22136089593824063, 'min_samples_leaf': 2, 'max_features': 'log2', 'criterion': 'entropy'}. Best is trial 20 with value: 0.9666666666666668.\n",
      "[I 2025-05-06 09:01:49,924] Trial 45 finished with value: 0.9533333333333334 and parameters: {'n_estimators': 92, 'max_depth': 7, 'min_samples_split': 0.3203317274524582, 'min_samples_leaf': 3, 'max_features': 'log2', 'criterion': 'entropy'}. Best is trial 20 with value: 0.9666666666666668.\n",
      "[I 2025-05-06 09:01:50,819] Trial 46 finished with value: 0.9666666666666668 and parameters: {'n_estimators': 208, 'max_depth': 11, 'min_samples_split': 0.10285755156717749, 'min_samples_leaf': 1, 'max_features': 'log2', 'criterion': 'entropy'}. Best is trial 20 with value: 0.9666666666666668.\n",
      "[I 2025-05-06 09:01:51,654] Trial 47 finished with value: 0.9600000000000002 and parameters: {'n_estimators': 192, 'max_depth': 32, 'min_samples_split': 0.34923744683448465, 'min_samples_leaf': 2, 'max_features': 'log2', 'criterion': 'entropy'}. Best is trial 20 with value: 0.9666666666666668.\n",
      "[I 2025-05-06 09:01:52,322] Trial 48 finished with value: 0.96 and parameters: {'n_estimators': 147, 'max_depth': 9, 'min_samples_split': 0.14142683095952402, 'min_samples_leaf': 1, 'max_features': 'log2', 'criterion': 'gini'}. Best is trial 20 with value: 0.9666666666666668.\n",
      "[I 2025-05-06 09:01:52,842] Trial 49 finished with value: 0.9533333333333334 and parameters: {'n_estimators': 106, 'max_depth': 12, 'min_samples_split': 0.395912533125429, 'min_samples_leaf': 4, 'max_features': None, 'criterion': 'entropy'}. Best is trial 20 with value: 0.9666666666666668.\n"
     ]
    }
   ],
   "source": [
    "def objective(trial):\n",
    "    params = {\n",
    "        \"n_estimators\": trial.suggest_int(\"n_estimators\", 50, 300),\n",
    "        \"max_depth\": trial.suggest_int(\"max_depth\", 2, 32),\n",
    "        \"min_samples_split\": trial.suggest_float(\"min_samples_split\", 0.1, 1.0),\n",
    "        \"min_samples_leaf\": trial.suggest_int(\"min_samples_leaf\", 1, 10),\n",
    "        \"max_features\": trial.suggest_categorical(\"max_features\", [\"sqrt\", \"log2\", None]),\n",
    "        \"criterion\": trial.suggest_categorical(\"criterion\", [\"gini\", \"entropy\", \"log_loss\"]),\n",
    "    }\n",
    "\n",
    "    model = ExtraTreesClassifier(**params, random_state=42, n_jobs=-1)\n",
    "    cv = StratifiedKFold(n_splits=5, shuffle=True, random_state=42)\n",
    "    \n",
    "    return cross_val_score(model, X, y, cv=cv, scoring=\"accuracy\", n_jobs=-1).mean()\n",
    "\n",
    "study = optuna.create_study(direction=\"maximize\")\n",
    "study.optimize(objective, n_trials=50)"
   ]
  },
  {
   "cell_type": "markdown",
   "id": "29dd6e91",
   "metadata": {},
   "source": [
    "## Final Classification Model"
   ]
  },
  {
   "cell_type": "code",
   "execution_count": 28,
   "id": "80a2f172",
   "metadata": {},
   "outputs": [
    {
     "name": "stdout",
     "output_type": "stream",
     "text": [
      "Akurasi: 1.0\n"
     ]
    }
   ],
   "source": [
    "best_model = ExtraTreesClassifier(**study.best_trial.params, random_state=42, n_jobs=-1)\n",
    "best_model.fit(X_train, y_train)\n",
    "y_pred = best_model.predict(X_test)\n",
    "\n",
    "print(\"Akurasi:\", accuracy_score(y_test, y_pred))"
   ]
  },
  {
   "cell_type": "markdown",
   "id": "67d0fab4",
   "metadata": {},
   "source": [
    "## Save Best Model"
   ]
  },
  {
   "cell_type": "code",
   "execution_count": 29,
   "id": "9adaf83c",
   "metadata": {},
   "outputs": [
    {
     "name": "stdout",
     "output_type": "stream",
     "text": [
      "Model berhasil disimpan ke best_model.pkl\n"
     ]
    }
   ],
   "source": [
    "with open(\"best_model/best_model.pkl\", \"wb\") as f:\n",
    "    pickle.dump(best_model, f)\n",
    "\n",
    "print(\"Model berhasil disimpan ke best_model.pkl\")"
   ]
  }
 ],
 "metadata": {
  "kernelspec": {
   "display_name": "Python 3",
   "language": "python",
   "name": "python3"
  },
  "language_info": {
   "codemirror_mode": {
    "name": "ipython",
    "version": 3
   },
   "file_extension": ".py",
   "mimetype": "text/x-python",
   "name": "python",
   "nbconvert_exporter": "python",
   "pygments_lexer": "ipython3",
   "version": "3.8.10"
  }
 },
 "nbformat": 4,
 "nbformat_minor": 5
}
